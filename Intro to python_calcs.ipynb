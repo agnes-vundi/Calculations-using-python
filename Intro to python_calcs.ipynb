{
 "cells": [
  {
   "cell_type": "markdown",
   "metadata": {},
   "source": [
    "### Question 1\n"
   ]
  },
  {
   "cell_type": "code",
   "execution_count": 4,
   "metadata": {},
   "outputs": [
    {
     "name": "stdout",
     "output_type": "stream",
     "text": [
      "The volume of the sphere is: 4188.790204786391\n"
     ]
    }
   ],
   "source": [
    "# a) calculation of the volume of a sphere v\n",
    "import math\n",
    "pi=math.pi\n",
    "r=10\n",
    "V=4/3*pi*r**3\n",
    "print('The volume of the sphere is:',V)"
   ]
  },
  {
   "cell_type": "code",
   "execution_count": 7,
   "metadata": {},
   "outputs": [
    {
     "name": "stdout",
     "output_type": "stream",
     "text": [
      "The volume of the cylinder is: 7389.025921243193\n"
     ]
    }
   ],
   "source": [
    "# b) Calculation of volume of a cylinder\n",
    "import math\n",
    "pi=math.pi\n",
    "r=14 #radius\n",
    "h=12 #height\n",
    "V=math.pi*r**2*h\n",
    "print('The volume of the cylinder is:',V)"
   ]
  },
  {
   "cell_type": "code",
   "execution_count": 8,
   "metadata": {},
   "outputs": [
    {
     "name": "stdout",
     "output_type": "stream",
     "text": [
      "density in (g/cm): 1.161993487573991\n"
     ]
    }
   ],
   "source": [
    "# c) Density of a cone\n",
    "import math\n",
    "pi=math.pi\n",
    "mass=4.77 #mass in kg where 1kg= 1000g\n",
    "M=4.77*1000 #mass in grams\n",
    "r=14\n",
    "h=20\n",
    "V=1/3*math.pi*r**2*h\n",
    "dens=M/V #Density\n",
    "print('density in (g/cm):',dens)\n",
    "\n"
   ]
  },
  {
   "cell_type": "markdown",
   "metadata": {},
   "source": [
    "### Question 2"
   ]
  },
  {
   "cell_type": "code",
   "execution_count": 12,
   "metadata": {},
   "outputs": [
    {
     "data": {
      "text/plain": [
       "float"
      ]
     },
     "execution_count": 12,
     "metadata": {},
     "output_type": "execute_result"
    }
   ],
   "source": [
    "#part (a)\n",
    "type(4188.790204786391)"
   ]
  },
  {
   "cell_type": "code",
   "execution_count": 13,
   "metadata": {},
   "outputs": [
    {
     "data": {
      "text/plain": [
       "float"
      ]
     },
     "execution_count": 13,
     "metadata": {},
     "output_type": "execute_result"
    }
   ],
   "source": [
    "# part (b)\n",
    "type(7389.025921243193)"
   ]
  },
  {
   "cell_type": "code",
   "execution_count": 14,
   "metadata": {},
   "outputs": [
    {
     "data": {
      "text/plain": [
       "float"
      ]
     },
     "execution_count": 14,
     "metadata": {},
     "output_type": "execute_result"
    }
   ],
   "source": [
    "# part (c)\n",
    "type(1.161993487573991)"
   ]
  },
  {
   "cell_type": "markdown",
   "metadata": {},
   "source": [
    "### Question 3"
   ]
  },
  {
   "cell_type": "code",
   "execution_count": 15,
   "metadata": {},
   "outputs": [
    {
     "data": {
      "text/plain": [
       "4188"
      ]
     },
     "execution_count": 15,
     "metadata": {},
     "output_type": "execute_result"
    }
   ],
   "source": [
    "# part (a)\n",
    "int(4188.790204786391)"
   ]
  },
  {
   "cell_type": "code",
   "execution_count": 16,
   "metadata": {},
   "outputs": [
    {
     "data": {
      "text/plain": [
       "7389"
      ]
     },
     "execution_count": 16,
     "metadata": {},
     "output_type": "execute_result"
    }
   ],
   "source": [
    "# part (b)\n",
    "int(7389.025921243193)"
   ]
  },
  {
   "cell_type": "code",
   "execution_count": 17,
   "metadata": {},
   "outputs": [
    {
     "data": {
      "text/plain": [
       "1"
      ]
     },
     "execution_count": 17,
     "metadata": {},
     "output_type": "execute_result"
    }
   ],
   "source": [
    "# part (c)\n",
    "int(1.161993487573991)"
   ]
  },
  {
   "cell_type": "markdown",
   "metadata": {},
   "source": [
    "### Question 4"
   ]
  },
  {
   "cell_type": "markdown",
   "metadata": {},
   "source": [
    "a) Calculate the taxable income"
   ]
  },
  {
   "cell_type": "code",
   "execution_count": 19,
   "metadata": {},
   "outputs": [
    {
     "name": "stdout",
     "output_type": "stream",
     "text": [
      "41000\n"
     ]
    }
   ],
   "source": [
    "# tax limits and rates\n",
    "band_1=10164\n",
    "band_2=19740\n",
    "band_3=29316\n",
    "band_4=38892\n",
    "\n",
    "rate_1=10/100\n",
    "rate_2=15/100\n",
    "rate_3=20/100\n",
    "rate_4=25/100\n",
    "rate_5=30/100\n",
    "\n",
    "taxable_income=2108\n",
    "total_taxable_income=(band_4)+(taxable_income)\n",
    "print(total_taxable_income)"
   ]
  },
  {
   "cell_type": "markdown",
   "metadata": {},
   "source": [
    "b) Calculate tax payable"
   ]
  },
  {
   "cell_type": "code",
   "execution_count": 20,
   "metadata": {},
   "outputs": [
    {
     "name": "stdout",
     "output_type": "stream",
     "text": [
      "Enter the income:41000\n",
      "7394.4\n"
     ]
    }
   ],
   "source": [
    "# Compute the amount of tax_payable by the employee for that month\n",
    "income = float(input(\"Enter the income:\"))\n",
    "if income < band_1:\n",
    "    tax_payable = rate_1 * band_1\n",
    "elif income < band_2:\n",
    "    tax_payable = rate_1 * band_1 + rate_2 * (band_2 - band_1)\n",
    "elif income < band_3:\n",
    "    tax_payable = rate_1 * band_1 + rate_2 * (band_2 - band_1) + rate_3 * (band_3 - band_2)\n",
    "elif income < band_4:\n",
    "    tax_payable = rate_1 * band_1 + rate_2 * (band_2 - band_1) + rate_3 * (band_3 - band_2) + rate_4 * (band_4 - band_3)\n",
    "else:\n",
    "    tax_payable = rate_1 * band_1 + rate_2 * (band_2 - band_1) + rate_3 * (band_3 - band_2) + rate_4 * (band_4 - band_3) + \\\n",
    "                 rate_5 * taxable_income\n",
    "print(tax_payable)\n",
    "     \n"
   ]
  },
  {
   "cell_type": "code",
   "execution_count": 21,
   "metadata": {},
   "outputs": [
    {
     "name": "stdout",
     "output_type": "stream",
     "text": [
      "6232.4\n"
     ]
    }
   ],
   "source": [
    "# a tax_relief of 1162 is given on the tax_payable\n",
    "tax_relief=1162\n",
    "net_tax_payable=tax_payable - float(tax_relief)\n",
    "print(net_tax_payable)"
   ]
  },
  {
   "cell_type": "markdown",
   "metadata": {},
   "source": [
    "c) calculation of employee's net pay"
   ]
  },
  {
   "cell_type": "code",
   "execution_count": 24,
   "metadata": {},
   "outputs": [
    {
     "name": "stdout",
     "output_type": "stream",
     "text": [
      "33467.6\n"
     ]
    }
   ],
   "source": [
    "# calculation of net_pay\n",
    "house_allowance=15000\n",
    "cop_cont=5/100*(total_taxable_income-house_allowance)\n",
    "net_pay=total_taxable_income-net_tax_payable-cop_cont\n",
    "print(net_pay)"
   ]
  },
  {
   "cell_type": "markdown",
   "metadata": {},
   "source": [
    "### Question 5"
   ]
  },
  {
   "cell_type": "code",
   "execution_count": 19,
   "metadata": {},
   "outputs": [
    {
     "name": "stdout",
     "output_type": "stream",
     "text": [
      "What is your name?Agnes\n",
      "How old are you?25\n",
      "Congrats Agnes of age 25, you are eligible for voting\n"
     ]
    }
   ],
   "source": [
    "name=input('What is your name?')\n",
    "age=int(input('How old are you?'))\n",
    "if age>18:\n",
    "    print('Congrats {} of age {}, you are eligible for voting'.format(name,age))\n",
    "else:\n",
    "    print('Sorry {} of age {}, you are not eligible for voting'.format(name,age))\n",
    "\n"
   ]
  },
  {
   "cell_type": "markdown",
   "metadata": {},
   "source": [
    "### Question 6"
   ]
  },
  {
   "cell_type": "code",
   "execution_count": 8,
   "metadata": {},
   "outputs": [
    {
     "name": "stdout",
     "output_type": "stream",
     "text": [
      "Enter the quantity100\n",
      "9000.0\n"
     ]
    }
   ],
   "source": [
    "buyer=int(input('Enter the quantity'))\n",
    "cost=100\n",
    "discount=10/100\n",
    "totalcost=buyer*cost\n",
    "if totalcost>1000:\n",
    "    print(totalcost-totalcost*discount)\n",
    "else:\n",
    "    print(totalcost)\n",
    "             "
   ]
  },
  {
   "cell_type": "markdown",
   "metadata": {},
   "source": [
    "### Question 7"
   ]
  },
  {
   "cell_type": "code",
   "execution_count": 10,
   "metadata": {},
   "outputs": [
    {
     "name": "stdout",
     "output_type": "stream",
     "text": [
      "Enter time of service in years10\n",
      "What is your salary?35000\n",
      "1750.0\n"
     ]
    }
   ],
   "source": [
    "yos=int(input('Enter time of service in years'))\n",
    "sal=int(input('What is your salary?'))\n",
    "bonus=5/100*sal\n",
    "if yos>5:\n",
    "    print(bonus)\n",
    "else:\n",
    "    print(salary)\n"
   ]
  },
  {
   "cell_type": "markdown",
   "metadata": {},
   "source": [
    "### Question 8"
   ]
  },
  {
   "cell_type": "code",
   "execution_count": 9,
   "metadata": {},
   "outputs": [
    {
     "name": "stdout",
     "output_type": "stream",
     "text": [
      "Enter your marks65\n",
      "B\n"
     ]
    }
   ],
   "source": [
    "marks=int(input('Enter your marks'))\n",
    "if marks<25:\n",
    "    print(\"F\")\n",
    "elif marks>=25 and marks<45:\n",
    "    print(\"E\")\n",
    "elif marks>=45 and marks<50:\n",
    "    print(\"D\")\n",
    "elif marks>=50 and marks<60:\n",
    "    print(\"C\")\n",
    "elif marks>=60 and marks<80:\n",
    "    print(\"B\")\n",
    "else:\n",
    "    print(\"A\")"
   ]
  },
  {
   "cell_type": "markdown",
   "metadata": {},
   "source": [
    "### Question 9"
   ]
  },
  {
   "cell_type": "code",
   "execution_count": 18,
   "metadata": {},
   "outputs": [
    {
     "name": "stdout",
     "output_type": "stream",
     "text": [
      "Enter number of classes held20\n",
      "Enter number of classes attended15\n",
      "You are allowed to sit in exam\n"
     ]
    }
   ],
   "source": [
    "noh=int(input('Enter number of classes held'))\n",
    "noa=int(input('Enter number of classes attended'))\n",
    "attendance=(noa/noh)*100\n",
    "if attendance<75:\n",
    "    print('You are not allowed to sit in exam')\n",
    "else:\n",
    "    print('You are allowed to sit in exam')\n"
   ]
  },
  {
   "cell_type": "code",
   "execution_count": null,
   "metadata": {},
   "outputs": [],
   "source": []
  }
 ],
 "metadata": {
  "kernelspec": {
   "display_name": "Python 3",
   "language": "python",
   "name": "python3"
  },
  "language_info": {
   "codemirror_mode": {
    "name": "ipython",
    "version": 3
   },
   "file_extension": ".py",
   "mimetype": "text/x-python",
   "name": "python",
   "nbconvert_exporter": "python",
   "pygments_lexer": "ipython3",
   "version": "3.7.4"
  }
 },
 "nbformat": 4,
 "nbformat_minor": 2
}
